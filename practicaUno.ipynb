{
  "nbformat": 4,
  "nbformat_minor": 0,
  "metadata": {
    "colab": {
      "provenance": [],
      "authorship_tag": "ABX9TyP6nOhe8osJRA5XZg7L0NyG",
      "include_colab_link": true
    },
    "kernelspec": {
      "name": "python3",
      "display_name": "Python 3"
    },
    "language_info": {
      "name": "python"
    }
  },
  "cells": [
    {
      "cell_type": "markdown",
      "metadata": {
        "id": "view-in-github",
        "colab_type": "text"
      },
      "source": [
        "<a href=\"https://colab.research.google.com/github/Edward-AS/Unidad-1/blob/main/practicaUno.ipynb\" target=\"_parent\"><img src=\"https://colab.research.google.com/assets/colab-badge.svg\" alt=\"Open In Colab\"/></a>"
      ]
    },
    {
      "cell_type": "code",
      "execution_count": null,
      "metadata": {
        "colab": {
          "base_uri": "https://localhost:8080/"
        },
        "id": "2MGh6rGcjhLw",
        "outputId": "4d6da339-3cad-4462-9f93-c5e35c13b3a0"
      },
      "outputs": [
        {
          "output_type": "stream",
          "name": "stdout",
          "text": [
            "Hola mundo\n"
          ]
        }
      ],
      "source": [
        "print(\"Hola mundo\")"
      ]
    },
    {
      "cell_type": "markdown",
      "source": [
        "Imprime un saludo"
      ],
      "metadata": {
        "id": "K2rHQ7JNlsIe"
      }
    },
    {
      "cell_type": "code",
      "source": [
        "class Saludo:\n",
        "  print(\"Hola mundo\")\n",
        "\n",
        "s = Saludo()"
      ],
      "metadata": {
        "colab": {
          "base_uri": "https://localhost:8080/"
        },
        "id": "Rb-8PPOkmiMy",
        "outputId": "c05579a1-ffa1-4a96-f3cc-f5a1018952f6"
      },
      "execution_count": null,
      "outputs": [
        {
          "output_type": "stream",
          "name": "stdout",
          "text": [
            "Hola mundo\n"
          ]
        }
      ]
    },
    {
      "cell_type": "markdown",
      "source": [
        "Inicia la clase Saludo"
      ],
      "metadata": {
        "id": "qhZh4F5vnl3_"
      }
    },
    {
      "cell_type": "code",
      "source": [],
      "metadata": {
        "id": "XZDxcirDnp-S"
      },
      "execution_count": null,
      "outputs": []
    }
  ]
}