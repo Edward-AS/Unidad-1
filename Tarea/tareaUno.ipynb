{
  "nbformat": 4,
  "nbformat_minor": 0,
  "metadata": {
    "colab": {
      "provenance": [],
      "authorship_tag": "ABX9TyMpWzO6uAzw8cB55N56x/y0",
      "include_colab_link": true
    },
    "kernelspec": {
      "name": "python3",
      "display_name": "Python 3"
    },
    "language_info": {
      "name": "python"
    }
  },
  "cells": [
    {
      "cell_type": "markdown",
      "metadata": {
        "id": "view-in-github",
        "colab_type": "text"
      },
      "source": [
        "<a href=\"https://colab.research.google.com/github/Edward-AS/Unidad-1/blob/main/tareaUno.ipynb\" target=\"_parent\"><img src=\"https://colab.research.google.com/assets/colab-badge.svg\" alt=\"Open In Colab\"/></a>"
      ]
    },
    {
      "cell_type": "code",
      "execution_count": null,
      "metadata": {
        "id": "ggcLBtAUVxNG"
      },
      "outputs": [],
      "source": [
        "class Saludo:\n",
        "    def __init__(self, saludos):\n",
        "        self.saludos = saludos"
      ]
    },
    {
      "cell_type": "markdown",
      "source": [
        "Creación de la clase 'Saludo'"
      ],
      "metadata": {
        "id": "Dr-kh6z9WE80"
      }
    },
    {
      "cell_type": "code",
      "source": [
        "usuario = input(\"Ingrese su nombre: \")"
      ],
      "metadata": {
        "id": "QYJUm5TqWF1W"
      },
      "execution_count": null,
      "outputs": []
    },
    {
      "cell_type": "markdown",
      "source": [
        "Creación de la variable 'usuario' para almacenar el nombre del usuario"
      ],
      "metadata": {
        "id": "C1CR4VuuWQQn"
      }
    },
    {
      "cell_type": "code",
      "source": [
        "saludo_usuario = Saludo(f\"Hola {usuario}!\")"
      ],
      "metadata": {
        "id": "gIf1L8oCWNHi"
      },
      "execution_count": null,
      "outputs": []
    },
    {
      "cell_type": "markdown",
      "source": [
        "Instanciación de la clase 'Saludo'"
      ],
      "metadata": {
        "id": "mJH5iIgFWUAj"
      }
    },
    {
      "cell_type": "code",
      "source": [
        "print(saludo_usuario.saludos)"
      ],
      "metadata": {
        "id": "dSbzPdiDWPsU"
      },
      "execution_count": null,
      "outputs": []
    },
    {
      "cell_type": "markdown",
      "source": [
        "Impresión del atributo 'saludos' del objeto 'saludo_usuario'"
      ],
      "metadata": {
        "id": "YMSfL1uKWVug"
      }
    }
  ]
}
