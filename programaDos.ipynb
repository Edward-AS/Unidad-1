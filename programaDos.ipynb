{
  "nbformat": 4,
  "nbformat_minor": 0,
  "metadata": {
    "colab": {
      "provenance": [],
      "authorship_tag": "ABX9TyOgR3LUoeiwELs+/UpZRKn3",
      "include_colab_link": true
    },
    "kernelspec": {
      "name": "python3",
      "display_name": "Python 3"
    },
    "language_info": {
      "name": "python"
    }
  },
  "cells": [
    {
      "cell_type": "markdown",
      "metadata": {
        "id": "view-in-github",
        "colab_type": "text"
      },
      "source": [
        "<a href=\"https://colab.research.google.com/github/Edward-AS/Unidad-1/blob/main/programaDos.ipynb\" target=\"_parent\"><img src=\"https://colab.research.google.com/assets/colab-badge.svg\" alt=\"Open In Colab\"/></a>"
      ]
    },
    {
      "cell_type": "code",
      "execution_count": null,
      "metadata": {
        "id": "jZMlRyKryK1F"
      },
      "outputs": [],
      "source": [
        "class Saludo:\n",
        "    def __init__(self, saluda):\n",
        "        self.saluda = saluda"
      ]
    },
    {
      "cell_type": "markdown",
      "source": [
        "Creación de la clase Saludo"
      ],
      "metadata": {
        "id": "yNrDXEguD91q"
      }
    },
    {
      "cell_type": "code",
      "source": [
        "s = Saludo(\"Hola mundo\")\n",
        "print(s.saluda)"
      ],
      "metadata": {
        "id": "TQdBgRbyEBSR"
      },
      "execution_count": null,
      "outputs": []
    },
    {
      "cell_type": "markdown",
      "source": [
        "Instanciación de la clase 'Saludo' e impresión del atributo 'saluda' del objeto 's'"
      ],
      "metadata": {
        "id": "xlAfV7i9ECw7"
      }
    }
  ]
}